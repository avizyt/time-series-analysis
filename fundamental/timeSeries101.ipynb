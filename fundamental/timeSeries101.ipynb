{
 "cells": [
  {
   "cell_type": "markdown",
   "metadata": {},
   "source": [
    "# Time Series Analysis"
   ]
  },
  {
   "cell_type": "code",
   "execution_count": 2,
   "metadata": {},
   "outputs": [],
   "source": [
    "import scipy\n",
    "import numpy as np\n",
    "import pandas as pd\n",
    "import statsmodels.api as sm\n",
    "import matplotlib.pyplot as plt"
   ]
  },
  {
   "cell_type": "markdown",
   "metadata": {},
   "source": [
    "### Daily female births time series data"
   ]
  },
  {
   "cell_type": "code",
   "execution_count": 5,
   "metadata": {},
   "outputs": [
    {
     "name": "stdout",
     "output_type": "stream",
     "text": [
      "<class 'pandas.core.series.Series'>\n",
      "Date\n",
      "1959-01-01    35\n",
      "1959-01-02    32\n",
      "1959-01-03    30\n",
      "1959-01-04    31\n",
      "1959-01-05    44\n",
      "Name: Births, dtype: int64\n"
     ]
    }
   ],
   "source": [
    "series = pd.read_csv(\"../data/daily-total-female-births.csv\", header=0, index_col=0, parse_dates=True, squeeze=True)\n",
    "print(type(series))\n",
    "print(series.head())"
   ]
  },
  {
   "cell_type": "code",
   "execution_count": 7,
   "metadata": {},
   "outputs": [
    {
     "data": {
      "text/plain": [
       "365"
      ]
     },
     "execution_count": 7,
     "metadata": {},
     "output_type": "execute_result"
    }
   ],
   "source": [
    "series.size"
   ]
  },
  {
   "cell_type": "code",
   "execution_count": 8,
   "metadata": {},
   "outputs": [
    {
     "data": {
      "text/plain": [
       "Date\n",
       "1959-01-01    35\n",
       "1959-01-02    32\n",
       "1959-01-03    30\n",
       "1959-01-04    31\n",
       "1959-01-05    44\n",
       "1959-01-06    29\n",
       "1959-01-07    45\n",
       "1959-01-08    43\n",
       "1959-01-09    38\n",
       "1959-01-10    27\n",
       "1959-01-11    38\n",
       "1959-01-12    33\n",
       "1959-01-13    55\n",
       "1959-01-14    47\n",
       "1959-01-15    45\n",
       "1959-01-16    37\n",
       "1959-01-17    50\n",
       "1959-01-18    43\n",
       "1959-01-19    41\n",
       "1959-01-20    52\n",
       "1959-01-21    34\n",
       "1959-01-22    53\n",
       "1959-01-23    39\n",
       "1959-01-24    32\n",
       "1959-01-25    37\n",
       "1959-01-26    43\n",
       "1959-01-27    39\n",
       "1959-01-28    35\n",
       "1959-01-29    44\n",
       "1959-01-30    38\n",
       "1959-01-31    24\n",
       "Name: Births, dtype: int64"
      ]
     },
     "execution_count": 8,
     "metadata": {},
     "output_type": "execute_result"
    }
   ],
   "source": [
    "series[\"1959-01\"]"
   ]
  },
  {
   "cell_type": "markdown",
   "metadata": {},
   "source": [
    "Descriptive Statistics of series"
   ]
  },
  {
   "cell_type": "code",
   "execution_count": 9,
   "metadata": {},
   "outputs": [
    {
     "name": "stdout",
     "output_type": "stream",
     "text": [
      "count    365.000000\n",
      "mean      41.980822\n",
      "std        7.348257\n",
      "min       23.000000\n",
      "25%       37.000000\n",
      "50%       42.000000\n",
      "75%       46.000000\n",
      "max       73.000000\n",
      "Name: Births, dtype: float64\n"
     ]
    }
   ],
   "source": [
    "print(series.describe())"
   ]
  },
  {
   "cell_type": "markdown",
   "metadata": {},
   "source": [
    "### Feature Engineering\n",
    "\n",
    "A time series datset must be transformed to be modeled as as supervise learning problem.\n",
    "\n",
    "Column A | Column B \n",
    "---------|----------\n",
    "time 1 | value 1\n",
    "time 2 | value 2\n",
    "time 3 | value3"
   ]
  },
  {
   "cell_type": "code",
   "execution_count": 12,
   "metadata": {},
   "outputs": [
    {
     "name": "stdout",
     "output_type": "stream",
     "text": [
      "Date\n",
      "1981-01-01    20.7\n",
      "1981-01-02    17.9\n",
      "1981-01-03    18.8\n",
      "1981-01-04    14.6\n",
      "1981-01-05    15.8\n",
      "Name: Temp, dtype: float64\n",
      "   month  day  temperature\n",
      "0      1    1         20.7\n",
      "1      1    2         17.9\n",
      "2      1    3         18.8\n",
      "3      1    4         14.6\n",
      "4      1    5         15.8\n"
     ]
    }
   ],
   "source": [
    "temperature = pd.read_csv(\"../data/daily-min-temp.csv\",header=0, index_col=0, parse_dates=True, squeeze=True)\n",
    "df = pd.DataFrame()\n",
    "df['month'] = [temperature.index[i].month for i in range(len(temperature))]\n",
    "df['day'] = [temperature.index[i].day for i in range(len(temperature))]\n",
    "df['temperature'] = [temperature[i] for i in range(len(temperature))]\n",
    "print(temperature.head())\n",
    "print(df.head())"
   ]
  },
  {
   "cell_type": "markdown",
   "metadata": {},
   "source": [
    "### Lag features\n",
    "\n",
    "The simplest approach is to predict the value at next time (t+1) from the value at current time (t).\n",
    "\n",
    "Shifted | original\n",
    "--------|---------\n",
    "NaN | 20.7\n",
    "20.7 | 17.9\n",
    "17.9 | 18.8"
   ]
  },
  {
   "cell_type": "code",
   "execution_count": 16,
   "metadata": {},
   "outputs": [
    {
     "name": "stdout",
     "output_type": "stream",
     "text": [
      "      0\n",
      "0  20.7\n",
      "1  17.9\n",
      "2  18.8\n",
      "3  14.6\n",
      "4  15.8\n",
      "    t-2   t-1     t   t+1\n",
      "0   NaN   NaN   NaN  20.7\n",
      "1   NaN   NaN  20.7  17.9\n",
      "2   NaN  20.7  17.9  18.8\n",
      "3  20.7  17.9  18.8  14.6\n",
      "4  17.9  18.8  14.6  15.8\n"
     ]
    }
   ],
   "source": [
    "temps = pd.DataFrame(temperature.values)\n",
    "print(temps.head())\n",
    "\n",
    "temp_shift_df = pd.concat([temps.shift(3), temps.shift(2), temps.shift(1), temps], axis=1)\n",
    "temp_shift_df.columns = ['t-2','t-1','t', 't+1']\n",
    "print(temp_shift_df.head())"
   ]
  },
  {
   "cell_type": "markdown",
   "metadata": {},
   "source": [
    "Rolling windows statistics"
   ]
  },
  {
   "cell_type": "code",
   "execution_count": 17,
   "metadata": {},
   "outputs": [
    {
     "name": "stdout",
     "output_type": "stream",
     "text": [
      "   mean(t-1,t)     t\n",
      "0          NaN  20.7\n",
      "1          NaN  17.9\n",
      "2        19.30  18.8\n",
      "3        18.35  14.6\n",
      "4        16.70  15.8\n"
     ]
    }
   ],
   "source": [
    "temps_rolling = pd.DataFrame(temperature.values)\n",
    "shifted = temps_rolling.shift(1)\n",
    "window = shifted.rolling(window=2)\n",
    "means = window.mean()\n",
    "df_roll = pd.concat([means, temps_rolling], axis=1)\n",
    "df_roll.columns = ['mean(t-1,t)','t']\n",
    "print(df_roll.head())"
   ]
  },
  {
   "cell_type": "code",
   "execution_count": 18,
   "metadata": {},
   "outputs": [
    {
     "name": "stdout",
     "output_type": "stream",
     "text": [
      "    min       mean   max   t+1\n",
      "0  20.7  20.700000  20.7  17.9\n",
      "1  17.9  19.300000  20.7  18.8\n",
      "2  17.9  19.133333  20.7  14.6\n",
      "3  14.6  18.000000  20.7  15.8\n",
      "4  14.6  17.560000  20.7  15.8\n"
     ]
    }
   ],
   "source": [
    "temps_window_expanding = pd.DataFrame(temperature.values)\n",
    "window = temps_window_expanding.expanding()\n",
    "df_window_expanding = pd.concat([window.min(),window.mean(),window.max(), temps_window_expanding.shift(-1)], axis=1)\n",
    "df_window_expanding.columns = ['min','mean','max','t+1']\n",
    "print(df_window_expanding.head())"
   ]
  },
  {
   "cell_type": "code",
   "execution_count": 19,
   "metadata": {},
   "outputs": [
    {
     "data": {
      "image/png": "[encoded data removed]",
      "text/plain": [
       "<Figure size 432x288 with 1 Axes>"
      ]
     },
     "metadata": {
      "needs_background": "light"
     },
     "output_type": "display_data"
    }
   ],
   "source": [
    "from pandas.plotting import lag_plot\n",
    "lag_plot(temperature)\n",
    "plt.show()"
   ]
  },
  {
   "cell_type": "code",
   "execution_count": 20,
   "metadata": {},
   "outputs": [
    {
     "data": {
      "image/png": "[encoded data removed]",
      "text/plain": [
       "<Figure size 432x288 with 1 Axes>"
      ]
     },
     "metadata": {
      "needs_background": "light"
     },
     "output_type": "display_data"
    }
   ],
   "source": [
    "# auto-correlation plot\n",
    "from pandas.plotting import autocorrelation_plot\n",
    "autocorrelation_plot(temperature)\n",
    "plt.show()"
   ]
  },
  {
   "cell_type": "code",
   "execution_count": null,
   "metadata": {},
   "outputs": [],
   "source": []
  }
 ],
 "metadata": {
  "interpreter": {
   "hash": "070ad714d74e38ee484433b432034cfdf97efdb82262d7f0963b47cffbe7ffd7"
  },
  "kernelspec": {
   "display_name": "Python 3.8.11 ('DLML')",
   "language": "python",
   "name": "python3"
  },
  "language_info": {
   "codemirror_mode": {
    "name": "ipython",
    "version": 3
   },
   "file_extension": ".py",
   "mimetype": "text/x-python",
   "name": "python",
   "nbconvert_exporter": "python",
   "pygments_lexer": "ipython3",
   "version": "3.8.11"
  },
  "orig_nbformat": 4
 },
 "nbformat": 4,
 "nbformat_minor": 2
}
